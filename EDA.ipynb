{
 "cells": [
  {
   "cell_type": "code",
   "execution_count": 6,
   "id": "e1e16053",
   "metadata": {},
   "outputs": [
    {
     "name": "stdout",
     "output_type": "stream",
     "text": [
      "                                                                                                                                             davita_dialysis_dashboard_data_updated\n",
      "Patient_Name        Gender Date_of_Birth Dialysis_Date Facility                 CPT_Code Payer_Type        Missed_Appointment Infection_Rate                             Patient ID\n",
      "Andrew Bernard      Male   1952-01-15    2025-02-26    Brooklyn Dialysis Center 90945    Medicaid          0                  0.21                                            82869\n",
      "Daniel Woodard      Male   2000-12-22    2025-04-11    Staten Island Nephrology 90935    Uninsured         0                  0.04                                            82105\n",
      "Stephanie Underwood Male   1937-01-19    2025-05-15    Harlem Renal Care        90999    Medicare          0                  1.07                                            42748\n",
      "Laura Vance         Female 1940-04-30    2025-04-08    Harlem Renal Care        90947    Private Insurance 0                  1.14                                            22415\n"
     ]
    }
   ],
   "source": [
    "\n",
    "\n",
    "import pandas as pd\n",
    "import matplotlib.pyplot as plt\n",
    "import seaborn as sns\n",
    "import numpy as np\n",
    "# Load the CSV file\n",
    "dialysisdf = pd.read_csv('/Users/adelamar_ifds/mock-dialysis/davita_dialysis.csv')\n",
    "\n",
    "# Preview the data\n",
    "print(dialysisdf.head())\n",
    "\n"
   ]
  },
  {
   "cell_type": "code",
   "execution_count": 7,
   "id": "96ab44a7",
   "metadata": {},
   "outputs": [
    {
     "data": {
      "text/plain": [
       "davita_dialysis_dashboard_data_updated    0\n",
       "dtype: int64"
      ]
     },
     "execution_count": 7,
     "metadata": {},
     "output_type": "execute_result"
    }
   ],
   "source": [
    "dialysisdf.isnull().sum()"
   ]
  },
  {
   "cell_type": "code",
   "execution_count": 8,
   "id": "48317c9a",
   "metadata": {},
   "outputs": [
    {
     "data": {
      "text/plain": [
       "davita_dialysis_dashboard_data_updated    0\n",
       "dtype: int64"
      ]
     },
     "execution_count": 8,
     "metadata": {},
     "output_type": "execute_result"
    }
   ],
   "source": [
    "dialysisdf.isna().sum()"
   ]
  },
  {
   "cell_type": "code",
   "execution_count": 9,
   "id": "3f54eeea",
   "metadata": {},
   "outputs": [
    {
     "data": {
      "text/html": [
       "<div>\n",
       "<style scoped>\n",
       "    .dataframe tbody tr th:only-of-type {\n",
       "        vertical-align: middle;\n",
       "    }\n",
       "\n",
       "    .dataframe tbody tr th {\n",
       "        vertical-align: top;\n",
       "    }\n",
       "\n",
       "    .dataframe thead th {\n",
       "        text-align: right;\n",
       "    }\n",
       "</style>\n",
       "<table border=\"1\" class=\"dataframe\">\n",
       "  <thead>\n",
       "    <tr style=\"text-align: right;\">\n",
       "      <th></th>\n",
       "      <th>davita_dialysis_dashboard_data_updated</th>\n",
       "    </tr>\n",
       "  </thead>\n",
       "  <tbody>\n",
       "    <tr>\n",
       "      <th>count</th>\n",
       "      <td>501</td>\n",
       "    </tr>\n",
       "    <tr>\n",
       "      <th>unique</th>\n",
       "      <td>501</td>\n",
       "    </tr>\n",
       "    <tr>\n",
       "      <th>top</th>\n",
       "      <td>Patient ID</td>\n",
       "    </tr>\n",
       "    <tr>\n",
       "      <th>freq</th>\n",
       "      <td>1</td>\n",
       "    </tr>\n",
       "  </tbody>\n",
       "</table>\n",
       "</div>"
      ],
      "text/plain": [
       "       davita_dialysis_dashboard_data_updated\n",
       "count                                     501\n",
       "unique                                    501\n",
       "top                                Patient ID\n",
       "freq                                        1"
      ]
     },
     "execution_count": 9,
     "metadata": {},
     "output_type": "execute_result"
    }
   ],
   "source": [
    "dialysisdf.describe()"
   ]
  },
  {
   "cell_type": "code",
   "execution_count": 10,
   "id": "fa87f16f",
   "metadata": {},
   "outputs": [
    {
     "data": {
      "text/plain": [
       "<bound method DataFrame.corr of                                                                                                                                              davita_dialysis_dashboard_data_updated\n",
       "Patient_Name        Gender Date_of_Birth Dialysis_Date Facility                 CPT_Code Payer_Type        Missed_Appointment Infection_Rate                             Patient ID\n",
       "Andrew Bernard      Male   1952-01-15    2025-02-26    Brooklyn Dialysis Center 90945    Medicaid          0                  0.21                                            82869\n",
       "Daniel Woodard      Male   2000-12-22    2025-04-11    Staten Island Nephrology 90935    Uninsured         0                  0.04                                            82105\n",
       "Stephanie Underwood Male   1937-01-19    2025-05-15    Harlem Renal Care        90999    Medicare          0                  1.07                                            42748\n",
       "Laura Vance         Female 1940-04-30    2025-04-08    Harlem Renal Care        90947    Private Insurance 0                  1.14                                            22415\n",
       "...                                                                                                                                                                             ...\n",
       "Patricia Brown      Female 1980-09-29    2025-07-27    Bronx Dialysis Group     90945    Uninsured         0                  0.8                                             86923\n",
       "Gregory Vargas      Male   1981-11-03    2025-05-27    Bronx Dialysis Group     90945    Uninsured         1                  1.28                                            82264\n",
       "James Jones         Male   1940-03-12    2025-04-15    Harlem Renal Care        90945    Medicare          0                  1.25                                            55843\n",
       "Daniel Brown        Female 1962-01-13    2025-04-03    Harlem Renal Care        90935    Medicaid          1                  0.59                                            55121\n",
       "Jessica Martinez    Male   1955-07-15    2025-04-22    Queens Kidney Institute  90945    Medicaid          0                  1.43                                            31432\n",
       "\n",
       "[501 rows x 1 columns]>"
      ]
     },
     "execution_count": 10,
     "metadata": {},
     "output_type": "execute_result"
    }
   ],
   "source": [
    "dialysisdf.corr"
   ]
  },
  {
   "cell_type": "code",
   "execution_count": null,
   "id": "b7ca3bdd",
   "metadata": {},
   "outputs": [],
   "source": []
  }
 ],
 "metadata": {
  "kernelspec": {
   "display_name": "Python 3",
   "language": "python",
   "name": "python3"
  },
  "language_info": {
   "codemirror_mode": {
    "name": "ipython",
    "version": 3
   },
   "file_extension": ".py",
   "mimetype": "text/x-python",
   "name": "python",
   "nbconvert_exporter": "python",
   "pygments_lexer": "ipython3",
   "version": "3.10.7"
  }
 },
 "nbformat": 4,
 "nbformat_minor": 5
}
