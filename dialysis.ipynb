{
 "cells": [
  {
   "cell_type": "code",
   "execution_count": 1,
   "id": "e1e16053",
   "metadata": {},
   "outputs": [
    {
     "name": "stdout",
     "output_type": "stream",
     "text": [
      "                                                                                                                                             davita_dialysis_dashboard_data_updated\n",
      "Patient_Name        Gender Date_of_Birth Dialysis_Date Facility                 CPT_Code Payer_Type        Missed_Appointment Infection_Rate                             Patient ID\n",
      "Andrew Bernard      Male   1952-01-15    2025-02-26    Brooklyn Dialysis Center 90945    Medicaid          0                  0.21                                            82869\n",
      "Daniel Woodard      Male   2000-12-22    2025-04-11    Staten Island Nephrology 90935    Uninsured         0                  0.04                                            82105\n",
      "Stephanie Underwood Male   1937-01-19    2025-05-15    Harlem Renal Care        90999    Medicare          0                  1.07                                            42748\n",
      "Laura Vance         Female 1940-04-30    2025-04-08    Harlem Renal Care        90947    Private Insurance 0                  1.14                                            22415\n"
     ]
    }
   ],
   "source": [
    "\n",
    "\n",
    "import pandas as pd\n",
    "\n",
    "# Load the CSV file\n",
    "df = pd.read_csv('/Users/adelamar_ifds/mock-dialysis/davita_dialysis.csv')\n",
    "\n",
    "# Preview the data\n",
    "print(df.head())\n",
    "\n"
   ]
  }
 ],
 "metadata": {
  "kernelspec": {
   "display_name": "Python 3",
   "language": "python",
   "name": "python3"
  },
  "language_info": {
   "codemirror_mode": {
    "name": "ipython",
    "version": 3
   },
   "file_extension": ".py",
   "mimetype": "text/x-python",
   "name": "python",
   "nbconvert_exporter": "python",
   "pygments_lexer": "ipython3",
   "version": "3.10.7"
  }
 },
 "nbformat": 4,
 "nbformat_minor": 5
}
