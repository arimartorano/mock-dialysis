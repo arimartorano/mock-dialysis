{
 "cells": [
  {
   "cell_type": "code",
   "execution_count": 1,
   "id": "29efe3b9",
   "metadata": {},
   "outputs": [
    {
     "name": "stdout",
     "output_type": "stream",
     "text": [
      "<bound method NDFrame.head of      Patient_ID  Gender  Age             Facility_Name        Dialysis_Type  \\\n",
      "0         60494    Male   47  Northside Renal Services        Home Dialysis   \n",
      "1         65125    Male   67   Emory Nephrology Center  Peritoneal Dialysis   \n",
      "2         15306    Male   63  Northside Renal Services  Peritoneal Dialysis   \n",
      "3         43936    Male   34      West End Renal Group         Hemodialysis   \n",
      "4         77013    Male   81   Emory Nephrology Center         Hemodialysis   \n",
      "..          ...     ...  ...                       ...                  ...   \n",
      "495       30434    Male   73    Dekalb Dialysis Center        Home Dialysis   \n",
      "496       59676  Female   73     South Fulton Dialysis         Hemodialysis   \n",
      "497       86408    Male   49      West End Renal Group        Home Dialysis   \n",
      "498       48585    Male   78   Emory Nephrology Center        Home Dialysis   \n",
      "499       71660    Male   66      West End Renal Group        Home Dialysis   \n",
      "\n",
      "     CPT_Code  Visit_Date  Billed_Amount Insurance_Type Claim_Status  \n",
      "0       90937  2025-07-26         367.48          Aetna         Paid  \n",
      "1       90999  2025-06-12         180.93          Cigna         Paid  \n",
      "2       90935  2025-07-18         451.42      Uninsured       Denied  \n",
      "3       90947  2025-07-31         293.28          Aetna       Denied  \n",
      "4       90945  2025-06-15         457.83       Medicaid       Denied  \n",
      "..        ...         ...            ...            ...          ...  \n",
      "495     90999  2025-06-11         487.28         Humana         Paid  \n",
      "496     90935  2025-07-02         271.33          Cigna       Denied  \n",
      "497     90947  2025-06-03         190.96          Aetna         Paid  \n",
      "498     90945  2025-05-06         427.19      Uninsured         Paid  \n",
      "499     90999  2025-05-19         296.58          Aetna         Paid  \n",
      "\n",
      "[500 rows x 10 columns]>\n"
     ]
    }
   ],
   "source": [
    "import pandas as pd\n",
    "import matplotlib.pyplot as plt\n",
    "from matplotlib import rcParams\n",
    "import seaborn as sns\n",
    "\n",
    "dialysisdf = pd.read_csv('dialysis_data.csv')\n",
    "\n",
    "print(dialysisdf.head)\n",
    "\n"
   ]
  },
  {
   "cell_type": "code",
   "execution_count": null,
   "id": "54f2ec3f",
   "metadata": {},
   "outputs": [
    {
     "ename": "TypeError",
     "evalue": "'DataFrame' object is not callable",
     "output_type": "error",
     "traceback": [
      "\u001b[0;31m---------------------------------------------------------------------------\u001b[0m",
      "\u001b[0;31mTypeError\u001b[0m                                 Traceback (most recent call last)",
      "Cell \u001b[0;32mIn [10], line 3\u001b[0m\n\u001b[1;32m      1\u001b[0m \u001b[38;5;28;01mfrom\u001b[39;00m \u001b[38;5;21;01msklearn\u001b[39;00m\u001b[38;5;21;01m.\u001b[39;00m\u001b[38;5;21;01mpreprocessing\u001b[39;00m \u001b[38;5;28;01mimport\u001b[39;00m LabelEncoder\n\u001b[1;32m      2\u001b[0m l\u001b[38;5;241m=\u001b[39mLabelEncoder()\n\u001b[0;32m----> 3\u001b[0m \u001b[43mdialysisdf\u001b[49m\u001b[43m(\u001b[49m\u001b[43m)\u001b[49m[\u001b[38;5;124m'\u001b[39m\u001b[38;5;124mDialysis_Type\u001b[39m\u001b[38;5;124m'\u001b[39m]\u001b[38;5;241m=\u001b[39ml\u001b[38;5;241m.\u001b[39mfit_transform(dialysisdf\u001b[38;5;241m.\u001b[39mDialysis_Type)\n",
      "\u001b[0;31mTypeError\u001b[0m: 'DataFrame' object is not callable"
     ]
    }
   ],
   "source": [
    "from sklearn.preprocessing import LabelEncoder\n",
    "l=LabelEncoder()\n"
   ]
  }
 ],
 "metadata": {
  "kernelspec": {
   "display_name": "Python 3",
   "language": "python",
   "name": "python3"
  },
  "language_info": {
   "codemirror_mode": {
    "name": "ipython",
    "version": 3
   },
   "file_extension": ".py",
   "mimetype": "text/x-python",
   "name": "python",
   "nbconvert_exporter": "python",
   "pygments_lexer": "ipython3",
   "version": "3.10.7"
  }
 },
 "nbformat": 4,
 "nbformat_minor": 5
}
