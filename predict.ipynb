{
 "cells": [
  {
   "cell_type": "code",
   "execution_count": 9,
   "id": "29efe3b9",
   "metadata": {},
   "outputs": [
    {
     "name": "stdout",
     "output_type": "stream",
     "text": [
      "<bound method NDFrame.head of      Patient_ID  Gender  Age            Facility_Name  CPT_Code  \\\n",
      "0         93810    Male   80  Atlanta Dialysis Center     90937   \n",
      "1         24592  Female   49   Peach State Nephrology     90945   \n",
      "2         13278    Male   50      Eastside Renal Care     90937   \n",
      "3         46048    Male   84      Eastside Renal Care     90945   \n",
      "4         42098    Male   35  Atlanta Dialysis Center     90935   \n",
      "..          ...     ...  ...                      ...       ...   \n",
      "495       51114    Male   64  Atlanta Dialysis Center     90937   \n",
      "496       67199    Male   18      Eastside Renal Care     90947   \n",
      "497       89457  Female   31   Peach State Nephrology     90937   \n",
      "498       77033    Male   81  Atlanta Dialysis Center     90937   \n",
      "499       25157  Female   55   Peach State Nephrology     90945   \n",
      "\n",
      "           Dialysis_Type  Visit_Date  Billed_Amount Insurance_Type  \\\n",
      "0      Home Hemodialysis  2024-01-01            920        Private   \n",
      "1    Peritoneal Dialysis  2024-01-02           1305       Medicaid   \n",
      "2      Home Hemodialysis  2024-01-03            335      Uninsured   \n",
      "3           Hemodialysis  2024-01-04           1043      Uninsured   \n",
      "4           Hemodialysis  2024-01-05            652        Private   \n",
      "..                   ...         ...            ...            ...   \n",
      "495    Home Hemodialysis  2025-05-10           1174        Private   \n",
      "496  Peritoneal Dialysis  2025-05-11            495       Medicaid   \n",
      "497  Peritoneal Dialysis  2025-05-12            989      Uninsured   \n",
      "498  Peritoneal Dialysis  2025-05-13           1393       Medicare   \n",
      "499    Home Hemodialysis  2025-05-14            938       Medicare   \n",
      "\n",
      "    Claim_Status  \n",
      "0        Pending  \n",
      "1        Pending  \n",
      "2        Pending  \n",
      "3         Denied  \n",
      "4           Paid  \n",
      "..           ...  \n",
      "495       Denied  \n",
      "496      Pending  \n",
      "497         Paid  \n",
      "498      Pending  \n",
      "499      Pending  \n",
      "\n",
      "[500 rows x 10 columns]>\n"
     ]
    }
   ],
   "source": [
    "import pandas as pd\n",
    "import matplotlib.pyplot as plt\n",
    "from matplotlib import rcParams\n",
    "import seaborn as sns\n",
    "\n",
    "dialysisdf = pd.read_csv('dialysis_data.csv')\n",
    "\n",
    "print(dialysisdf.head)\n",
    "\n"
   ]
  },
  {
   "cell_type": "code",
   "execution_count": null,
   "id": "54f2ec3f",
   "metadata": {},
   "outputs": [
    {
     "ename": "TypeError",
     "evalue": "'DataFrame' object is not callable",
     "output_type": "error",
     "traceback": [
      "\u001b[0;31m---------------------------------------------------------------------------\u001b[0m",
      "\u001b[0;31mTypeError\u001b[0m                                 Traceback (most recent call last)",
      "Cell \u001b[0;32mIn [10], line 3\u001b[0m\n\u001b[1;32m      1\u001b[0m \u001b[38;5;28;01mfrom\u001b[39;00m \u001b[38;5;21;01msklearn\u001b[39;00m\u001b[38;5;21;01m.\u001b[39;00m\u001b[38;5;21;01mpreprocessing\u001b[39;00m \u001b[38;5;28;01mimport\u001b[39;00m LabelEncoder\n\u001b[1;32m      2\u001b[0m l\u001b[38;5;241m=\u001b[39mLabelEncoder()\n\u001b[0;32m----> 3\u001b[0m \u001b[43mdialysisdf\u001b[49m\u001b[43m(\u001b[49m\u001b[43m)\u001b[49m[\u001b[38;5;124m'\u001b[39m\u001b[38;5;124mDialysis_Type\u001b[39m\u001b[38;5;124m'\u001b[39m]\u001b[38;5;241m=\u001b[39ml\u001b[38;5;241m.\u001b[39mfit_transform(dialysisdf\u001b[38;5;241m.\u001b[39mDialysis_Type)\n",
      "\u001b[0;31mTypeError\u001b[0m: 'DataFrame' object is not callable"
     ]
    }
   ],
   "source": [
    "from sklearn.preprocessing import LabelEncoder\n",
    "l=LabelEncoder()\n"
   ]
  }
 ],
 "metadata": {
  "kernelspec": {
   "display_name": "Python 3",
   "language": "python",
   "name": "python3"
  },
  "language_info": {
   "codemirror_mode": {
    "name": "ipython",
    "version": 3
   },
   "file_extension": ".py",
   "mimetype": "text/x-python",
   "name": "python",
   "nbconvert_exporter": "python",
   "pygments_lexer": "ipython3",
   "version": "3.10.7"
  }
 },
 "nbformat": 4,
 "nbformat_minor": 5
}
