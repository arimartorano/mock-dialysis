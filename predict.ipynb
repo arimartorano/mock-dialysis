{
 "cells": [
  {
   "cell_type": "code",
   "execution_count": 5,
   "id": "29efe3b9",
   "metadata": {},
   "outputs": [
    {
     "name": "stdout",
     "output_type": "stream",
     "text": [
      "<bound method NDFrame.head of                                                                                                                                              davita_dialysis_dashboard_data_updated\n",
      "Patient_Name        Gender Date_of_Birth Dialysis_Date Facility                 CPT_Code Payer_Type        Missed_Appointment Infection_Rate                             Patient ID\n",
      "Andrew Bernard      Male   1952-01-15    2025-02-26    Brooklyn Dialysis Center 90945    Medicaid          0                  0.21                                            82869\n",
      "Daniel Woodard      Male   2000-12-22    2025-04-11    Staten Island Nephrology 90935    Uninsured         0                  0.04                                            82105\n",
      "Stephanie Underwood Male   1937-01-19    2025-05-15    Harlem Renal Care        90999    Medicare          0                  1.07                                            42748\n",
      "Laura Vance         Female 1940-04-30    2025-04-08    Harlem Renal Care        90947    Private Insurance 0                  1.14                                            22415\n",
      "...                                                                                                                                                                             ...\n",
      "Patricia Brown      Female 1980-09-29    2025-07-27    Bronx Dialysis Group     90945    Uninsured         0                  0.8                                             86923\n",
      "Gregory Vargas      Male   1981-11-03    2025-05-27    Bronx Dialysis Group     90945    Uninsured         1                  1.28                                            82264\n",
      "James Jones         Male   1940-03-12    2025-04-15    Harlem Renal Care        90945    Medicare          0                  1.25                                            55843\n",
      "Daniel Brown        Female 1962-01-13    2025-04-03    Harlem Renal Care        90935    Medicaid          1                  0.59                                            55121\n",
      "Jessica Martinez    Male   1955-07-15    2025-04-22    Queens Kidney Institute  90945    Medicaid          0                  1.43                                            31432\n",
      "\n",
      "[501 rows x 1 columns]>\n"
     ]
    }
   ],
   "source": [
    "import pandas as pd\n",
    "import matplotlib.pyplot as plt\n",
    "from matplotlib import rcParams\n",
    "import seaborn as sns\n",
    "\n",
    "dialysisdf = pd.read_csv('/Users/adelamar_ifds/mock-dialysis/davita_dialysis.csv')\n",
    "\n",
    "print(dialysisdf.head)\n",
    "\n"
   ]
  },
  {
   "cell_type": "code",
   "execution_count": 3,
   "id": "54f2ec3f",
   "metadata": {},
   "outputs": [
    {
     "ename": "AttributeError",
     "evalue": "'DataFrame' object has no attribute 'Infection_Rate'",
     "output_type": "error",
     "traceback": [
      "\u001b[0;31m---------------------------------------------------------------------------\u001b[0m",
      "\u001b[0;31mAttributeError\u001b[0m                            Traceback (most recent call last)",
      "Cell \u001b[0;32mIn [3], line 3\u001b[0m\n\u001b[1;32m      1\u001b[0m \u001b[38;5;28;01mfrom\u001b[39;00m \u001b[38;5;21;01msklearn\u001b[39;00m\u001b[38;5;21;01m.\u001b[39;00m\u001b[38;5;21;01mpreprocessing\u001b[39;00m \u001b[38;5;28;01mimport\u001b[39;00m LabelEncoder\n\u001b[1;32m      2\u001b[0m l\u001b[38;5;241m=\u001b[39mLabelEncoder()\n\u001b[0;32m----> 3\u001b[0m dialysisdf()[\u001b[38;5;124m'\u001b[39m\u001b[38;5;124mInfection_Rate\u001b[39m\u001b[38;5;124m'\u001b[39m]\u001b[38;5;241m=\u001b[39ml\u001b[38;5;241m.\u001b[39mfit_transform(\u001b[43mdialysisdf\u001b[49m\u001b[38;5;241;43m.\u001b[39;49m\u001b[43mInfection_Rate\u001b[49m)\n",
      "File \u001b[0;32m/Library/Frameworks/Python.framework/Versions/3.10/lib/python3.10/site-packages/pandas/core/generic.py:6299\u001b[0m, in \u001b[0;36mNDFrame.__getattr__\u001b[0;34m(self, name)\u001b[0m\n\u001b[1;32m   6292\u001b[0m \u001b[38;5;28;01mif\u001b[39;00m (\n\u001b[1;32m   6293\u001b[0m     name \u001b[38;5;129;01mnot\u001b[39;00m \u001b[38;5;129;01min\u001b[39;00m \u001b[38;5;28mself\u001b[39m\u001b[38;5;241m.\u001b[39m_internal_names_set\n\u001b[1;32m   6294\u001b[0m     \u001b[38;5;129;01mand\u001b[39;00m name \u001b[38;5;129;01mnot\u001b[39;00m \u001b[38;5;129;01min\u001b[39;00m \u001b[38;5;28mself\u001b[39m\u001b[38;5;241m.\u001b[39m_metadata\n\u001b[1;32m   6295\u001b[0m     \u001b[38;5;129;01mand\u001b[39;00m name \u001b[38;5;129;01mnot\u001b[39;00m \u001b[38;5;129;01min\u001b[39;00m \u001b[38;5;28mself\u001b[39m\u001b[38;5;241m.\u001b[39m_accessors\n\u001b[1;32m   6296\u001b[0m     \u001b[38;5;129;01mand\u001b[39;00m \u001b[38;5;28mself\u001b[39m\u001b[38;5;241m.\u001b[39m_info_axis\u001b[38;5;241m.\u001b[39m_can_hold_identifiers_and_holds_name(name)\n\u001b[1;32m   6297\u001b[0m ):\n\u001b[1;32m   6298\u001b[0m     \u001b[38;5;28;01mreturn\u001b[39;00m \u001b[38;5;28mself\u001b[39m[name]\n\u001b[0;32m-> 6299\u001b[0m \u001b[38;5;28;01mreturn\u001b[39;00m \u001b[38;5;28;43mobject\u001b[39;49m\u001b[38;5;241;43m.\u001b[39;49m\u001b[38;5;21;43m__getattribute__\u001b[39;49m\u001b[43m(\u001b[49m\u001b[38;5;28;43mself\u001b[39;49m\u001b[43m,\u001b[49m\u001b[43m \u001b[49m\u001b[43mname\u001b[49m\u001b[43m)\u001b[49m\n",
      "\u001b[0;31mAttributeError\u001b[0m: 'DataFrame' object has no attribute 'Infection_Rate'"
     ]
    }
   ],
   "source": [
    "from sklearn.preprocessing import LabelEncoder\n",
    "l=LabelEncoder()\n",
    "dialysisdf()['Infection_Rate']=l.fit_transform(dialysisdf.Infection_Rate)"
   ]
  }
 ],
 "metadata": {
  "kernelspec": {
   "display_name": "Python 3",
   "language": "python",
   "name": "python3"
  },
  "language_info": {
   "codemirror_mode": {
    "name": "ipython",
    "version": 3
   },
   "file_extension": ".py",
   "mimetype": "text/x-python",
   "name": "python",
   "nbconvert_exporter": "python",
   "pygments_lexer": "ipython3",
   "version": "3.10.7"
  }
 },
 "nbformat": 4,
 "nbformat_minor": 5
}
